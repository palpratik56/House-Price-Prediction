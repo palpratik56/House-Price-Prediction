{
 "cells": [
  {
   "cell_type": "code",
   "execution_count": 1,
   "id": "a6c04624",
   "metadata": {},
   "outputs": [],
   "source": [
    "import numpy as np\n",
    "import pandas as pd\n",
    "import matplotlib.pyplot as plt\n",
    "import xgboost\n",
    "import math\n",
    "import seaborn as sns\n",
    "from sklearn.linear_model import LinearRegression\n",
    "from sklearn.model_selection import cross_val_score,train_test_split\n",
    "from sklearn.metrics import explained_variance_score"
   ]
  },
  {
   "cell_type": "code",
   "execution_count": 2,
   "id": "767c3083",
   "metadata": {},
   "outputs": [],
   "source": [
    "data = pd.read_csv('C:/Users/PRATIK PAL/Desktop/Self Study/ML/datasets/kc_house_data.csv')"
   ]
  },
  {
   "cell_type": "code",
   "execution_count": 3,
   "id": "690365bd",
   "metadata": {},
   "outputs": [
    {
     "data": {
      "text/html": [
       "<div>\n",
       "<style scoped>\n",
       "    .dataframe tbody tr th:only-of-type {\n",
       "        vertical-align: middle;\n",
       "    }\n",
       "\n",
       "    .dataframe tbody tr th {\n",
       "        vertical-align: top;\n",
       "    }\n",
       "\n",
       "    .dataframe thead th {\n",
       "        text-align: right;\n",
       "    }\n",
       "</style>\n",
       "<table border=\"1\" class=\"dataframe\">\n",
       "  <thead>\n",
       "    <tr style=\"text-align: right;\">\n",
       "      <th></th>\n",
       "      <th>id</th>\n",
       "      <th>date</th>\n",
       "      <th>price</th>\n",
       "      <th>bedrooms</th>\n",
       "      <th>bathrooms</th>\n",
       "      <th>sqft_living</th>\n",
       "      <th>sqft_lot</th>\n",
       "      <th>floors</th>\n",
       "      <th>waterfront</th>\n",
       "      <th>view</th>\n",
       "      <th>...</th>\n",
       "      <th>grade</th>\n",
       "      <th>sqft_above</th>\n",
       "      <th>sqft_basement</th>\n",
       "      <th>yr_built</th>\n",
       "      <th>yr_renovated</th>\n",
       "      <th>zipcode</th>\n",
       "      <th>lat</th>\n",
       "      <th>long</th>\n",
       "      <th>sqft_living15</th>\n",
       "      <th>sqft_lot15</th>\n",
       "    </tr>\n",
       "  </thead>\n",
       "  <tbody>\n",
       "    <tr>\n",
       "      <th>0</th>\n",
       "      <td>7129300520</td>\n",
       "      <td>20141013T000000</td>\n",
       "      <td>221900.0</td>\n",
       "      <td>3</td>\n",
       "      <td>1.00</td>\n",
       "      <td>1180</td>\n",
       "      <td>5650</td>\n",
       "      <td>1.0</td>\n",
       "      <td>0</td>\n",
       "      <td>0</td>\n",
       "      <td>...</td>\n",
       "      <td>7</td>\n",
       "      <td>1180</td>\n",
       "      <td>0</td>\n",
       "      <td>1955</td>\n",
       "      <td>0</td>\n",
       "      <td>98178</td>\n",
       "      <td>47.5112</td>\n",
       "      <td>-122.257</td>\n",
       "      <td>1340</td>\n",
       "      <td>5650</td>\n",
       "    </tr>\n",
       "    <tr>\n",
       "      <th>1</th>\n",
       "      <td>6414100192</td>\n",
       "      <td>20141209T000000</td>\n",
       "      <td>538000.0</td>\n",
       "      <td>3</td>\n",
       "      <td>2.25</td>\n",
       "      <td>2570</td>\n",
       "      <td>7242</td>\n",
       "      <td>2.0</td>\n",
       "      <td>0</td>\n",
       "      <td>0</td>\n",
       "      <td>...</td>\n",
       "      <td>7</td>\n",
       "      <td>2170</td>\n",
       "      <td>400</td>\n",
       "      <td>1951</td>\n",
       "      <td>1991</td>\n",
       "      <td>98125</td>\n",
       "      <td>47.7210</td>\n",
       "      <td>-122.319</td>\n",
       "      <td>1690</td>\n",
       "      <td>7639</td>\n",
       "    </tr>\n",
       "    <tr>\n",
       "      <th>2</th>\n",
       "      <td>5631500400</td>\n",
       "      <td>20150225T000000</td>\n",
       "      <td>180000.0</td>\n",
       "      <td>2</td>\n",
       "      <td>1.00</td>\n",
       "      <td>770</td>\n",
       "      <td>10000</td>\n",
       "      <td>1.0</td>\n",
       "      <td>0</td>\n",
       "      <td>0</td>\n",
       "      <td>...</td>\n",
       "      <td>6</td>\n",
       "      <td>770</td>\n",
       "      <td>0</td>\n",
       "      <td>1933</td>\n",
       "      <td>0</td>\n",
       "      <td>98028</td>\n",
       "      <td>47.7379</td>\n",
       "      <td>-122.233</td>\n",
       "      <td>2720</td>\n",
       "      <td>8062</td>\n",
       "    </tr>\n",
       "    <tr>\n",
       "      <th>3</th>\n",
       "      <td>2487200875</td>\n",
       "      <td>20141209T000000</td>\n",
       "      <td>604000.0</td>\n",
       "      <td>4</td>\n",
       "      <td>3.00</td>\n",
       "      <td>1960</td>\n",
       "      <td>5000</td>\n",
       "      <td>1.0</td>\n",
       "      <td>0</td>\n",
       "      <td>0</td>\n",
       "      <td>...</td>\n",
       "      <td>7</td>\n",
       "      <td>1050</td>\n",
       "      <td>910</td>\n",
       "      <td>1965</td>\n",
       "      <td>0</td>\n",
       "      <td>98136</td>\n",
       "      <td>47.5208</td>\n",
       "      <td>-122.393</td>\n",
       "      <td>1360</td>\n",
       "      <td>5000</td>\n",
       "    </tr>\n",
       "    <tr>\n",
       "      <th>4</th>\n",
       "      <td>1954400510</td>\n",
       "      <td>20150218T000000</td>\n",
       "      <td>510000.0</td>\n",
       "      <td>3</td>\n",
       "      <td>2.00</td>\n",
       "      <td>1680</td>\n",
       "      <td>8080</td>\n",
       "      <td>1.0</td>\n",
       "      <td>0</td>\n",
       "      <td>0</td>\n",
       "      <td>...</td>\n",
       "      <td>8</td>\n",
       "      <td>1680</td>\n",
       "      <td>0</td>\n",
       "      <td>1987</td>\n",
       "      <td>0</td>\n",
       "      <td>98074</td>\n",
       "      <td>47.6168</td>\n",
       "      <td>-122.045</td>\n",
       "      <td>1800</td>\n",
       "      <td>7503</td>\n",
       "    </tr>\n",
       "    <tr>\n",
       "      <th>5</th>\n",
       "      <td>7237550310</td>\n",
       "      <td>20140512T000000</td>\n",
       "      <td>1225000.0</td>\n",
       "      <td>4</td>\n",
       "      <td>4.50</td>\n",
       "      <td>5420</td>\n",
       "      <td>101930</td>\n",
       "      <td>1.0</td>\n",
       "      <td>0</td>\n",
       "      <td>0</td>\n",
       "      <td>...</td>\n",
       "      <td>11</td>\n",
       "      <td>3890</td>\n",
       "      <td>1530</td>\n",
       "      <td>2001</td>\n",
       "      <td>0</td>\n",
       "      <td>98053</td>\n",
       "      <td>47.6561</td>\n",
       "      <td>-122.005</td>\n",
       "      <td>4760</td>\n",
       "      <td>101930</td>\n",
       "    </tr>\n",
       "    <tr>\n",
       "      <th>6</th>\n",
       "      <td>1321400060</td>\n",
       "      <td>20140627T000000</td>\n",
       "      <td>257500.0</td>\n",
       "      <td>3</td>\n",
       "      <td>2.25</td>\n",
       "      <td>1715</td>\n",
       "      <td>6819</td>\n",
       "      <td>2.0</td>\n",
       "      <td>0</td>\n",
       "      <td>0</td>\n",
       "      <td>...</td>\n",
       "      <td>7</td>\n",
       "      <td>1715</td>\n",
       "      <td>0</td>\n",
       "      <td>1995</td>\n",
       "      <td>0</td>\n",
       "      <td>98003</td>\n",
       "      <td>47.3097</td>\n",
       "      <td>-122.327</td>\n",
       "      <td>2238</td>\n",
       "      <td>6819</td>\n",
       "    </tr>\n",
       "    <tr>\n",
       "      <th>7</th>\n",
       "      <td>2008000270</td>\n",
       "      <td>20150115T000000</td>\n",
       "      <td>291850.0</td>\n",
       "      <td>3</td>\n",
       "      <td>1.50</td>\n",
       "      <td>1060</td>\n",
       "      <td>9711</td>\n",
       "      <td>1.0</td>\n",
       "      <td>0</td>\n",
       "      <td>0</td>\n",
       "      <td>...</td>\n",
       "      <td>7</td>\n",
       "      <td>1060</td>\n",
       "      <td>0</td>\n",
       "      <td>1963</td>\n",
       "      <td>0</td>\n",
       "      <td>98198</td>\n",
       "      <td>47.4095</td>\n",
       "      <td>-122.315</td>\n",
       "      <td>1650</td>\n",
       "      <td>9711</td>\n",
       "    </tr>\n",
       "  </tbody>\n",
       "</table>\n",
       "<p>8 rows × 21 columns</p>\n",
       "</div>"
      ],
      "text/plain": [
       "           id             date      price  bedrooms  bathrooms  sqft_living   \n",
       "0  7129300520  20141013T000000   221900.0         3       1.00         1180  \\\n",
       "1  6414100192  20141209T000000   538000.0         3       2.25         2570   \n",
       "2  5631500400  20150225T000000   180000.0         2       1.00          770   \n",
       "3  2487200875  20141209T000000   604000.0         4       3.00         1960   \n",
       "4  1954400510  20150218T000000   510000.0         3       2.00         1680   \n",
       "5  7237550310  20140512T000000  1225000.0         4       4.50         5420   \n",
       "6  1321400060  20140627T000000   257500.0         3       2.25         1715   \n",
       "7  2008000270  20150115T000000   291850.0         3       1.50         1060   \n",
       "\n",
       "   sqft_lot  floors  waterfront  view  ...  grade  sqft_above  sqft_basement   \n",
       "0      5650     1.0           0     0  ...      7        1180              0  \\\n",
       "1      7242     2.0           0     0  ...      7        2170            400   \n",
       "2     10000     1.0           0     0  ...      6         770              0   \n",
       "3      5000     1.0           0     0  ...      7        1050            910   \n",
       "4      8080     1.0           0     0  ...      8        1680              0   \n",
       "5    101930     1.0           0     0  ...     11        3890           1530   \n",
       "6      6819     2.0           0     0  ...      7        1715              0   \n",
       "7      9711     1.0           0     0  ...      7        1060              0   \n",
       "\n",
       "   yr_built  yr_renovated  zipcode      lat     long  sqft_living15   \n",
       "0      1955             0    98178  47.5112 -122.257           1340  \\\n",
       "1      1951          1991    98125  47.7210 -122.319           1690   \n",
       "2      1933             0    98028  47.7379 -122.233           2720   \n",
       "3      1965             0    98136  47.5208 -122.393           1360   \n",
       "4      1987             0    98074  47.6168 -122.045           1800   \n",
       "5      2001             0    98053  47.6561 -122.005           4760   \n",
       "6      1995             0    98003  47.3097 -122.327           2238   \n",
       "7      1963             0    98198  47.4095 -122.315           1650   \n",
       "\n",
       "   sqft_lot15  \n",
       "0        5650  \n",
       "1        7639  \n",
       "2        8062  \n",
       "3        5000  \n",
       "4        7503  \n",
       "5      101930  \n",
       "6        6819  \n",
       "7        9711  \n",
       "\n",
       "[8 rows x 21 columns]"
      ]
     },
     "execution_count": 3,
     "metadata": {},
     "output_type": "execute_result"
    }
   ],
   "source": [
    "data.head(8)"
   ]
  },
  {
   "cell_type": "code",
   "execution_count": 4,
   "id": "0c60c211",
   "metadata": {
    "scrolled": true
   },
   "outputs": [
    {
     "name": "stdout",
     "output_type": "stream",
     "text": [
      "0\n",
      "0\n"
     ]
    }
   ],
   "source": [
    "# Check any number of columns with NaN\n",
    "print(data.isnull().any().sum())\n",
    "# Check any number of data points with NaN\n",
    "print(data.isnull().any(axis=1).sum())"
   ]
  },
  {
   "cell_type": "code",
   "execution_count": 5,
   "id": "79a55878",
   "metadata": {
    "scrolled": true
   },
   "outputs": [],
   "source": [
    "X = data.iloc[:,3:]\n",
    "y = data.iloc[:,2]"
   ]
  },
  {
   "cell_type": "code",
   "execution_count": 6,
   "id": "8e2395c2",
   "metadata": {},
   "outputs": [
    {
     "data": {
      "text/html": [
       "<div>\n",
       "<style scoped>\n",
       "    .dataframe tbody tr th:only-of-type {\n",
       "        vertical-align: middle;\n",
       "    }\n",
       "\n",
       "    .dataframe tbody tr th {\n",
       "        vertical-align: top;\n",
       "    }\n",
       "\n",
       "    .dataframe thead th {\n",
       "        text-align: right;\n",
       "    }\n",
       "</style>\n",
       "<table border=\"1\" class=\"dataframe\">\n",
       "  <thead>\n",
       "    <tr style=\"text-align: right;\">\n",
       "      <th></th>\n",
       "      <th>bedrooms</th>\n",
       "      <th>bathrooms</th>\n",
       "      <th>sqft_living</th>\n",
       "      <th>sqft_lot</th>\n",
       "      <th>floors</th>\n",
       "      <th>grade</th>\n",
       "      <th>sqft_above</th>\n",
       "      <th>sqft_basement</th>\n",
       "      <th>yr_renovated</th>\n",
       "      <th>zipcode</th>\n",
       "      <th>lat</th>\n",
       "      <th>long</th>\n",
       "    </tr>\n",
       "  </thead>\n",
       "  <tbody>\n",
       "    <tr>\n",
       "      <th>0</th>\n",
       "      <td>3</td>\n",
       "      <td>1.00</td>\n",
       "      <td>1180</td>\n",
       "      <td>5650</td>\n",
       "      <td>1.0</td>\n",
       "      <td>7</td>\n",
       "      <td>1180</td>\n",
       "      <td>0</td>\n",
       "      <td>0</td>\n",
       "      <td>98178</td>\n",
       "      <td>47.5112</td>\n",
       "      <td>-122.257</td>\n",
       "    </tr>\n",
       "    <tr>\n",
       "      <th>1</th>\n",
       "      <td>3</td>\n",
       "      <td>2.25</td>\n",
       "      <td>2570</td>\n",
       "      <td>7242</td>\n",
       "      <td>2.0</td>\n",
       "      <td>7</td>\n",
       "      <td>2170</td>\n",
       "      <td>400</td>\n",
       "      <td>1991</td>\n",
       "      <td>98125</td>\n",
       "      <td>47.7210</td>\n",
       "      <td>-122.319</td>\n",
       "    </tr>\n",
       "    <tr>\n",
       "      <th>2</th>\n",
       "      <td>2</td>\n",
       "      <td>1.00</td>\n",
       "      <td>770</td>\n",
       "      <td>10000</td>\n",
       "      <td>1.0</td>\n",
       "      <td>6</td>\n",
       "      <td>770</td>\n",
       "      <td>0</td>\n",
       "      <td>0</td>\n",
       "      <td>98028</td>\n",
       "      <td>47.7379</td>\n",
       "      <td>-122.233</td>\n",
       "    </tr>\n",
       "    <tr>\n",
       "      <th>3</th>\n",
       "      <td>4</td>\n",
       "      <td>3.00</td>\n",
       "      <td>1960</td>\n",
       "      <td>5000</td>\n",
       "      <td>1.0</td>\n",
       "      <td>7</td>\n",
       "      <td>1050</td>\n",
       "      <td>910</td>\n",
       "      <td>0</td>\n",
       "      <td>98136</td>\n",
       "      <td>47.5208</td>\n",
       "      <td>-122.393</td>\n",
       "    </tr>\n",
       "    <tr>\n",
       "      <th>4</th>\n",
       "      <td>3</td>\n",
       "      <td>2.00</td>\n",
       "      <td>1680</td>\n",
       "      <td>8080</td>\n",
       "      <td>1.0</td>\n",
       "      <td>8</td>\n",
       "      <td>1680</td>\n",
       "      <td>0</td>\n",
       "      <td>0</td>\n",
       "      <td>98074</td>\n",
       "      <td>47.6168</td>\n",
       "      <td>-122.045</td>\n",
       "    </tr>\n",
       "    <tr>\n",
       "      <th>...</th>\n",
       "      <td>...</td>\n",
       "      <td>...</td>\n",
       "      <td>...</td>\n",
       "      <td>...</td>\n",
       "      <td>...</td>\n",
       "      <td>...</td>\n",
       "      <td>...</td>\n",
       "      <td>...</td>\n",
       "      <td>...</td>\n",
       "      <td>...</td>\n",
       "      <td>...</td>\n",
       "      <td>...</td>\n",
       "    </tr>\n",
       "    <tr>\n",
       "      <th>21608</th>\n",
       "      <td>3</td>\n",
       "      <td>2.50</td>\n",
       "      <td>1530</td>\n",
       "      <td>1131</td>\n",
       "      <td>3.0</td>\n",
       "      <td>8</td>\n",
       "      <td>1530</td>\n",
       "      <td>0</td>\n",
       "      <td>0</td>\n",
       "      <td>98103</td>\n",
       "      <td>47.6993</td>\n",
       "      <td>-122.346</td>\n",
       "    </tr>\n",
       "    <tr>\n",
       "      <th>21609</th>\n",
       "      <td>4</td>\n",
       "      <td>2.50</td>\n",
       "      <td>2310</td>\n",
       "      <td>5813</td>\n",
       "      <td>2.0</td>\n",
       "      <td>8</td>\n",
       "      <td>2310</td>\n",
       "      <td>0</td>\n",
       "      <td>0</td>\n",
       "      <td>98146</td>\n",
       "      <td>47.5107</td>\n",
       "      <td>-122.362</td>\n",
       "    </tr>\n",
       "    <tr>\n",
       "      <th>21610</th>\n",
       "      <td>2</td>\n",
       "      <td>0.75</td>\n",
       "      <td>1020</td>\n",
       "      <td>1350</td>\n",
       "      <td>2.0</td>\n",
       "      <td>7</td>\n",
       "      <td>1020</td>\n",
       "      <td>0</td>\n",
       "      <td>0</td>\n",
       "      <td>98144</td>\n",
       "      <td>47.5944</td>\n",
       "      <td>-122.299</td>\n",
       "    </tr>\n",
       "    <tr>\n",
       "      <th>21611</th>\n",
       "      <td>3</td>\n",
       "      <td>2.50</td>\n",
       "      <td>1600</td>\n",
       "      <td>2388</td>\n",
       "      <td>2.0</td>\n",
       "      <td>8</td>\n",
       "      <td>1600</td>\n",
       "      <td>0</td>\n",
       "      <td>0</td>\n",
       "      <td>98027</td>\n",
       "      <td>47.5345</td>\n",
       "      <td>-122.069</td>\n",
       "    </tr>\n",
       "    <tr>\n",
       "      <th>21612</th>\n",
       "      <td>2</td>\n",
       "      <td>0.75</td>\n",
       "      <td>1020</td>\n",
       "      <td>1076</td>\n",
       "      <td>2.0</td>\n",
       "      <td>7</td>\n",
       "      <td>1020</td>\n",
       "      <td>0</td>\n",
       "      <td>0</td>\n",
       "      <td>98144</td>\n",
       "      <td>47.5941</td>\n",
       "      <td>-122.299</td>\n",
       "    </tr>\n",
       "  </tbody>\n",
       "</table>\n",
       "<p>21613 rows × 12 columns</p>\n",
       "</div>"
      ],
      "text/plain": [
       "       bedrooms  bathrooms  sqft_living  sqft_lot  floors  grade  sqft_above   \n",
       "0             3       1.00         1180      5650     1.0      7        1180  \\\n",
       "1             3       2.25         2570      7242     2.0      7        2170   \n",
       "2             2       1.00          770     10000     1.0      6         770   \n",
       "3             4       3.00         1960      5000     1.0      7        1050   \n",
       "4             3       2.00         1680      8080     1.0      8        1680   \n",
       "...         ...        ...          ...       ...     ...    ...         ...   \n",
       "21608         3       2.50         1530      1131     3.0      8        1530   \n",
       "21609         4       2.50         2310      5813     2.0      8        2310   \n",
       "21610         2       0.75         1020      1350     2.0      7        1020   \n",
       "21611         3       2.50         1600      2388     2.0      8        1600   \n",
       "21612         2       0.75         1020      1076     2.0      7        1020   \n",
       "\n",
       "       sqft_basement  yr_renovated  zipcode      lat     long  \n",
       "0                  0             0    98178  47.5112 -122.257  \n",
       "1                400          1991    98125  47.7210 -122.319  \n",
       "2                  0             0    98028  47.7379 -122.233  \n",
       "3                910             0    98136  47.5208 -122.393  \n",
       "4                  0             0    98074  47.6168 -122.045  \n",
       "...              ...           ...      ...      ...      ...  \n",
       "21608              0             0    98103  47.6993 -122.346  \n",
       "21609              0             0    98146  47.5107 -122.362  \n",
       "21610              0             0    98144  47.5944 -122.299  \n",
       "21611              0             0    98027  47.5345 -122.069  \n",
       "21612              0             0    98144  47.5941 -122.299  \n",
       "\n",
       "[21613 rows x 12 columns]"
      ]
     },
     "execution_count": 6,
     "metadata": {},
     "output_type": "execute_result"
    }
   ],
   "source": [
    "X.drop(['waterfront','view','condition','yr_built','sqft_living15','sqft_lot15'],axis=1,inplace=True)\n",
    "X"
   ]
  },
  {
   "cell_type": "code",
   "execution_count": 7,
   "id": "9d32618c",
   "metadata": {},
   "outputs": [
    {
     "data": {
      "text/plain": [
       "array([-122.257, -122.319, -122.233, -122.393, -122.045, -122.005,\n",
       "       -122.327, -122.315, -122.337, -122.031, -122.145, -122.292,\n",
       "       -122.229, -122.394, -122.375, -121.962, -122.343, -122.21 ,\n",
       "       -122.306, -122.341, -122.169, -122.166, -122.172, -122.218,\n",
       "       -122.36 , -122.314, -122.304, -122.11 , -122.07 , -122.357,\n",
       "       -122.368, -122.157, -122.31 , -122.132, -122.362, -122.282,\n",
       "       -122.18 , -122.027, -122.347, -122.016, -122.364, -122.175,\n",
       "       -121.977, -122.371, -122.151, -122.301, -122.451, -122.322,\n",
       "       -122.189, -122.384, -122.369, -122.281, -122.29 , -122.114,\n",
       "       -122.122, -122.116, -122.149, -122.339, -122.335, -122.344,\n",
       "       -122.32 , -122.297, -122.192, -122.215, -122.16 , -122.179,\n",
       "       -122.287, -122.036, -122.073, -121.987, -122.125, -122.34 ,\n",
       "       -122.025, -122.008, -122.291, -122.365, -122.199, -122.194,\n",
       "       -122.387, -122.372, -122.391, -122.351, -122.386, -122.249,\n",
       "       -122.277, -122.378, -121.958, -121.714, -122.08 , -122.196,\n",
       "       -122.184, -122.133, -122.38 , -122.082, -122.109, -122.053,\n",
       "       -122.349, -122.295, -122.253, -122.248, -122.303, -122.294,\n",
       "       -122.226, -122.266, -122.098, -122.212, -122.244, -122.39 ,\n",
       "       -122.352, -121.85 , -122.152, -122.054, -122.072, -121.998,\n",
       "       -122.296, -122.299, -122.381, -122.358, -122.128, -122.171,\n",
       "       -122.174, -122.026, -122.353, -121.943, -122.286, -122.336,\n",
       "       -122.359, -122.162, -122.3  , -122.176, -121.996, -122.118,\n",
       "       -122.193, -122.023, -122.224, -122.168, -122.231, -122.331,\n",
       "       -122.374, -122.182, -122.308, -122.307, -121.999, -122.376,\n",
       "       -122.2  , -122.039, -122.102, -122.188, -122.379, -122.043,\n",
       "       -122.153, -122.191, -122.219, -122.312, -121.911, -121.994,\n",
       "       -122.165, -122.37 , -122.158, -122.047, -122.284, -122.017,\n",
       "       -122.275, -122.268, -122.367, -122.217, -122.373, -122.013,\n",
       "       -122.214, -122.034, -122.164, -121.899, -122.183, -121.95 ,\n",
       "       -122.324, -122.216, -122.395, -122.213, -122.345, -122.278,\n",
       "       -122.111, -121.711, -122.27 , -122.178, -122.147, -121.772,\n",
       "       -122.302, -122.438, -122.223, -122.042, -122.323, -122.255,\n",
       "       -122.4  , -122.261, -122.071, -122.206, -122.272, -122.23 ,\n",
       "       -122.144, -122.143, -122.181, -122.154, -122.311, -122.274,\n",
       "       -122.077, -122.   , -122.298, -122.058, -121.837, -122.333,\n",
       "       -122.057, -122.252, -122.093, -122.012, -122.052, -122.354,\n",
       "       -122.22 , -122.49 , -121.875, -122.24 , -122.078, -122.173,\n",
       "       -121.854, -122.222, -122.28 , -122.137, -122.159, -121.974,\n",
       "       -122.141, -122.029, -121.709, -122.19 , -121.97 , -122.329,\n",
       "       -122.195, -122.06 , -121.959, -122.095, -122.148, -122.146,\n",
       "       -122.35 , -121.901, -122.241, -122.129, -122.289, -122.305,\n",
       "       -122.022, -122.385, -121.779, -122.032, -122.402, -122.482,\n",
       "       -122.227, -121.982, -122.161, -122.046, -122.156, -122.127,\n",
       "       -122.33 , -122.197, -122.041, -122.103, -122.318, -122.382,\n",
       "       -122.271, -121.955, -122.211, -122.262, -122.258, -122.121,\n",
       "       -122.221, -122.234, -122.089, -122.123, -122.167, -121.909,\n",
       "       -122.107, -122.064, -122.066, -122.062, -122.264, -122.186,\n",
       "       -122.087, -121.88 , -121.864, -122.205, -122.363, -122.139,\n",
       "       -122.018, -122.225, -122.285, -122.084, -122.177, -122.056,\n",
       "       -122.316, -122.021, -122.348, -122.009, -122.131, -122.411,\n",
       "       -122.198, -122.256, -122.117, -122.097, -122.075, -121.845,\n",
       "       -122.083, -122.259, -121.87 , -122.015, -122.007, -121.86 ,\n",
       "       -122.409, -121.755, -121.972, -122.251, -122.317, -121.776,\n",
       "       -122.115, -122.283, -122.242, -122.001, -122.024, -122.309,\n",
       "       -122.113, -121.771, -122.239, -122.273, -122.396, -122.094,\n",
       "       -122.267, -122.326, -122.13 , -122.269, -121.853, -122.05 ,\n",
       "       -122.346, -122.076, -121.826, -122.124, -121.758, -122.202,\n",
       "       -121.785, -121.872, -122.006, -122.004, -122.321, -121.882,\n",
       "       -122.101, -122.03 , -122.185, -122.1  , -121.759, -121.965,\n",
       "       -122.201, -122.366, -122.313, -122.405, -122.02 , -122.279,\n",
       "       -122.355, -121.934, -122.15 , -122.356, -121.993, -122.044,\n",
       "       -122.134, -121.867, -122.01 , -121.991, -122.011, -121.983,\n",
       "       -122.228, -122.033, -122.276, -122.119, -121.937, -122.361,\n",
       "       -122.325, -122.203, -122.136, -122.237, -122.209, -122.049,\n",
       "       -122.288, -122.106, -122.037, -122.207, -122.263, -121.915,\n",
       "       -122.204, -122.09 , -122.069, -121.852, -121.787, -121.976,\n",
       "       -122.377, -122.059, -122.383, -121.989, -122.019, -122.208,\n",
       "       -121.878, -122.328, -122.25 , -122.338, -122.388, -122.265,\n",
       "       -122.332, -122.399, -122.397, -122.014, -121.956, -122.092,\n",
       "       -122.028, -122.293, -122.12 , -122.035, -122.14 , -122.04 ,\n",
       "       -122.112, -121.906, -122.17 , -122.238, -122.512, -121.997,\n",
       "       -121.89 , -122.463, -121.908, -122.086, -122.389, -121.913,\n",
       "       -122.163, -121.918, -122.108, -122.502, -122.392, -122.236,\n",
       "       -121.859, -121.981, -122.342, -121.96 , -121.978, -122.47 ,\n",
       "       -121.91 , -121.966, -122.065, -122.246, -122.41 , -121.879,\n",
       "       -122.079, -122.099, -122.187, -121.98 , -122.002, -122.138,\n",
       "       -121.898, -122.235, -122.126, -121.782, -121.995, -122.401,\n",
       "       -121.858, -121.888, -121.752, -122.063, -122.26 , -121.78 ,\n",
       "       -121.708, -121.721, -122.403, -121.945, -122.243, -122.45 ,\n",
       "       -121.927, -122.085, -122.088, -121.973, -122.055, -122.398,\n",
       "       -121.984, -121.912, -121.903, -121.946, -122.232, -122.412,\n",
       "       -122.104, -122.048, -122.479, -122.155, -121.833, -121.778,\n",
       "       -122.003, -121.99 , -121.926, -122.051, -121.986, -122.245,\n",
       "       -121.861, -122.431, -121.964, -122.142, -122.074, -122.247,\n",
       "       -122.497, -121.769, -121.827, -121.979, -121.871, -122.091,\n",
       "       -121.754, -121.746, -121.92 , -121.992, -122.406, -121.359,\n",
       "       -121.789, -121.707, -122.068, -122.404, -122.334, -121.799,\n",
       "       -121.774, -121.985, -121.865, -121.724, -122.415, -121.756,\n",
       "       -121.809, -122.135, -121.691, -122.038, -121.877, -121.94 ,\n",
       "       -121.968, -121.988, -121.315, -121.902, -122.514, -122.414,\n",
       "       -121.883, -121.866, -121.744, -122.096, -122.061, -121.881,\n",
       "       -121.745, -122.461, -122.067, -121.868, -121.646, -121.93 ,\n",
       "       -122.105, -121.763, -121.718, -121.967, -121.777, -121.957,\n",
       "       -121.823, -121.887, -122.408, -122.462, -122.43 , -122.456,\n",
       "       -121.897, -121.932, -121.969, -121.916, -122.081, -121.975,\n",
       "       -121.735, -121.801, -121.761, -121.723, -121.924, -122.475,\n",
       "       -121.935, -122.407, -122.448, -122.453, -121.894, -121.936,\n",
       "       -121.764, -122.416, -121.905, -122.464, -121.768, -122.484,\n",
       "       -121.738, -121.9  , -121.82 , -122.455, -121.889, -122.496,\n",
       "       -121.829, -122.505, -121.951, -121.847, -122.509, -121.961,\n",
       "       -121.417, -121.904, -122.503, -121.949, -121.874, -122.432,\n",
       "       -121.971, -121.77 , -122.473, -121.896, -121.952, -122.254,\n",
       "       -121.743, -121.933, -121.892, -121.749, -121.473, -121.857,\n",
       "       -122.465, -121.838, -121.954, -122.422, -121.931, -121.963,\n",
       "       -122.441, -121.925, -121.352, -122.511, -122.413, -121.876,\n",
       "       -121.748, -121.818, -121.8  , -121.929, -121.698, -121.886,\n",
       "       -121.802, -121.81 , -121.762, -121.781, -121.775, -122.44 ,\n",
       "       -121.773, -121.819, -121.726, -122.459, -122.446, -121.855,\n",
       "       -121.736, -122.499, -122.46 , -121.786, -122.421, -121.947,\n",
       "       -122.439, -121.834, -121.804, -122.443, -121.716, -121.848,\n",
       "       -122.458, -122.515, -121.922, -121.953, -121.783, -122.472,\n",
       "       -121.944, -121.869, -121.828, -122.452, -121.831, -121.737,\n",
       "       -121.739, -121.863, -121.73 , -121.856, -121.747, -121.893,\n",
       "       -121.733, -121.846, -121.821, -121.319, -121.765, -121.75 ,\n",
       "       -122.506, -121.948, -121.921, -122.507, -122.457, -121.914,\n",
       "       -122.469, -121.792, -121.907, -121.841, -121.757, -121.788,\n",
       "       -121.731, -122.449, -121.316, -121.321, -122.504, -121.884,\n",
       "       -121.803, -121.842, -121.719, -121.766, -122.433, -122.519,\n",
       "       -121.851, -121.402, -122.454, -122.467, -121.325, -121.815,\n",
       "       -121.676, -121.941, -122.445, -121.76 , -121.885, -121.742,\n",
       "       -121.822, -121.895, -121.784, -121.701, -121.713, -121.727,\n",
       "       -121.849, -121.835, -122.435, -122.474, -122.444, -121.939,\n",
       "       -121.48 , -121.364, -121.767, -122.42 , -121.84 , -122.425,\n",
       "       -122.447, -121.797, -122.491, -121.917, -121.891, -121.942,\n",
       "       -121.862, -121.725, -121.873, -121.405, -122.486, -121.795,\n",
       "       -121.734, -121.403])"
      ]
     },
     "execution_count": 7,
     "metadata": {},
     "output_type": "execute_result"
    }
   ],
   "source": [
    "X['long'].unique()"
   ]
  },
  {
   "cell_type": "code",
   "execution_count": 8,
   "id": "ea508bcb",
   "metadata": {},
   "outputs": [],
   "source": [
    "X_train, X_test, y_train, y_test = train_test_split(X, y ,test_size=0.3,random_state=42)"
   ]
  },
  {
   "cell_type": "code",
   "execution_count": 9,
   "id": "84aafdf5",
   "metadata": {},
   "outputs": [],
   "source": [
    "from sklearn.preprocessing import StandardScaler\n",
    "sc=StandardScaler()\n",
    "X_train=sc.fit_transform(X_train)\n",
    "X_test=sc.transform(X_test)"
   ]
  },
  {
   "cell_type": "code",
   "execution_count": 29,
   "id": "82e4e33a",
   "metadata": {},
   "outputs": [
    {
     "data": {
      "text/plain": [
       "array([[ 0.67921258,  0.50673542,  0.66517989, ..., -1.35003295,\n",
       "         0.03181799,  0.63788882],\n",
       "       [ 0.67921258, -0.4723706 ,  0.29223284, ...,  0.69324171,\n",
       "         0.82281156, -0.75582327],\n",
       "       [ 0.67921258,  0.18036675,  0.12769738, ..., -0.86264633,\n",
       "        -1.34520365, -0.49852257],\n",
       "       ...,\n",
       "       [-0.39163018,  0.50673542,  0.05091417, ..., -0.46898791,\n",
       "         0.86900097,  1.30258228],\n",
       "       [-2.53331571, -1.77784531, -1.85769717, ...,  1.68676058,\n",
       "        -0.57441795, -0.77726499],\n",
       "       [ 0.67921258,  0.50673542,  1.15878627, ..., -0.67518994,\n",
       "        -1.27664125,  0.8237171 ]])"
      ]
     },
     "execution_count": 29,
     "metadata": {},
     "output_type": "execute_result"
    }
   ],
   "source": [
    "X_train"
   ]
  },
  {
   "cell_type": "code",
   "execution_count": 10,
   "id": "c4507a34",
   "metadata": {},
   "outputs": [],
   "source": [
    "import pickle\n",
    "pickle.dump(sc,open('scaling.pkl','wb'))"
   ]
  },
  {
   "cell_type": "code",
   "execution_count": 11,
   "id": "b8510e8e",
   "metadata": {},
   "outputs": [
    {
     "data": {
      "text/plain": [
       "LinearRegression()"
      ]
     },
     "execution_count": 11,
     "metadata": {},
     "output_type": "execute_result"
    }
   ],
   "source": [
    "# Train a simple linear regression model\n",
    "regr = LinearRegression()\n",
    "regr.fit(X_train, y_train)"
   ]
  },
  {
   "cell_type": "code",
   "execution_count": 12,
   "id": "0f50dd94",
   "metadata": {},
   "outputs": [
    {
     "data": {
      "text/plain": [
       "{'copy_X': True,\n",
       " 'fit_intercept': True,\n",
       " 'n_jobs': None,\n",
       " 'normalize': 'deprecated',\n",
       " 'positive': False}"
      ]
     },
     "execution_count": 12,
     "metadata": {},
     "output_type": "execute_result"
    }
   ],
   "source": [
    "regr.get_params()"
   ]
  },
  {
   "cell_type": "code",
   "execution_count": 13,
   "id": "421bb2b8",
   "metadata": {},
   "outputs": [
    {
     "name": "stdout",
     "output_type": "stream",
     "text": [
      "-48434600289.40805\n"
     ]
    }
   ],
   "source": [
    "mse=cross_val_score(regr,X_train,y_train,scoring='neg_mean_squared_error',cv=5)\n",
    "print(np.mean(mse))"
   ]
  },
  {
   "cell_type": "code",
   "execution_count": 14,
   "id": "4d2efca4",
   "metadata": {},
   "outputs": [
    {
     "name": "stdout",
     "output_type": "stream",
     "text": [
      "537640.1731773441\n"
     ]
    }
   ],
   "source": [
    "print(regr.intercept_)"
   ]
  },
  {
   "cell_type": "code",
   "execution_count": 15,
   "id": "3be71c7c",
   "metadata": {},
   "outputs": [
    {
     "data": {
      "text/plain": [
       "array([ 429611.34223338,  788145.40359177, 1164706.69973488, ...,\n",
       "        429474.85927906,  744256.21743378,  651067.50825619])"
      ]
     },
     "execution_count": 15,
     "metadata": {},
     "output_type": "execute_result"
    }
   ],
   "source": [
    "pred=regr.predict(X_test)\n",
    "pred"
   ]
  },
  {
   "cell_type": "code",
   "execution_count": 16,
   "id": "fbe39fa0",
   "metadata": {},
   "outputs": [
    {
     "name": "stdout",
     "output_type": "stream",
     "text": [
      "0.6206365311778739\n"
     ]
    }
   ],
   "source": [
    "from sklearn.metrics import r2_score\n",
    "score=r2_score(y_test,pred)\n",
    "print(score)\n"
   ]
  },
  {
   "cell_type": "code",
   "execution_count": 17,
   "id": "dd6c125d",
   "metadata": {},
   "outputs": [
    {
     "data": {
      "text/plain": [
       "<seaborn.axisgrid.FacetGrid at 0x17eb00641c0>"
      ]
     },
     "execution_count": 17,
     "metadata": {},
     "output_type": "execute_result"
    },
    {
     "data": {
      "image/png": "[encoded data removed]",
      "text/plain": [
       "<Figure size 500x500 with 1 Axes>"
      ]
     },
     "metadata": {},
     "output_type": "display_data"
    }
   ],
   "source": [
    "sns.displot(y_test-pred,kind='kde')"
   ]
  },
  {
   "cell_type": "code",
   "execution_count": 18,
   "id": "c1a22fab",
   "metadata": {},
   "outputs": [
    {
     "data": {
      "text/plain": [
       "<matplotlib.collections.PathCollection at 0x17eb71fa9e0>"
      ]
     },
     "execution_count": 18,
     "metadata": {},
     "output_type": "execute_result"
    },
    {
     "data": {
      "image/png": "[encoded data removed]",
      "text/plain": [
       "<Figure size 640x480 with 1 Axes>"
      ]
     },
     "metadata": {},
     "output_type": "display_data"
    }
   ],
   "source": [
    "plt.scatter(y_test,pred)"
   ]
  },
  {
   "cell_type": "code",
   "execution_count": 19,
   "id": "c95f4963",
   "metadata": {},
   "outputs": [
    {
     "name": "stdout",
     "output_type": "stream",
     "text": [
      "MAE: 143752.81310945412\n",
      "MSE: 54767388208.10272\n",
      "RMSE: 234024.3325128879\n"
     ]
    }
   ],
   "source": [
    "# Calculate the Errors\n",
    "from sklearn import metrics\n",
    "print('MAE:', metrics.mean_absolute_error(y_test, pred))\n",
    "print('MSE:', metrics.mean_squared_error(y_test, pred))\n",
    "print('RMSE:', np.sqrt(metrics.mean_squared_error(y_test, pred)))\n"
   ]
  },
  {
   "cell_type": "code",
   "execution_count": 20,
   "id": "17f4311e",
   "metadata": {},
   "outputs": [],
   "source": [
    "import pickle\n",
    "pickle.dump(regr,open('regmodel.pkl','wb'))\n",
    "pickled_model=pickle.load(open('regmodel.pkl','rb'))"
   ]
  },
  {
   "cell_type": "code",
   "execution_count": 21,
   "id": "c4548c68",
   "metadata": {},
   "outputs": [],
   "source": [
    "# Let's try XGboost algorithm to see if we can get better results\n",
    "xgb = xgboost.XGBRegressor(n_estimators=100, learning_rate=0.08, gamma=0, subsample=0.75,\n",
    "                           colsample_bytree=1, max_depth=7)"
   ]
  },
  {
   "cell_type": "code",
   "execution_count": 22,
   "id": "7a64cfed",
   "metadata": {},
   "outputs": [
    {
     "data": {
      "text/plain": [
       "XGBRegressor(base_score=None, booster=None, callbacks=None,\n",
       "             colsample_bylevel=None, colsample_bynode=None, colsample_bytree=1,\n",
       "             device=None, early_stopping_rounds=None, enable_categorical=False,\n",
       "             eval_metric=None, feature_types=None, gamma=0, grow_policy=None,\n",
       "             importance_type=None, interaction_constraints=None,\n",
       "             learning_rate=0.08, max_bin=None, max_cat_threshold=None,\n",
       "             max_cat_to_onehot=None, max_delta_step=None, max_depth=7,\n",
       "             max_leaves=None, min_child_weight=None, missing=nan,\n",
       "             monotone_constraints=None, multi_strategy=None, n_estimators=100,\n",
       "             n_jobs=None, num_parallel_tree=None, random_state=None, ...)"
      ]
     },
     "execution_count": 22,
     "metadata": {},
     "output_type": "execute_result"
    }
   ],
   "source": [
    "traindf, testdf = train_test_split(X_train, test_size = 0.3)\n",
    "xgb.fit(X_train,y_train)"
   ]
  },
  {
   "cell_type": "code",
   "execution_count": 23,
   "id": "66b4c27d",
   "metadata": {},
   "outputs": [
    {
     "name": "stdout",
     "output_type": "stream",
     "text": [
      "0.788813277223834\n"
     ]
    }
   ],
   "source": [
    "predictions = xgb.predict(X_test)\n",
    "print(explained_variance_score(predictions,y_test))"
   ]
  },
  {
   "cell_type": "code",
   "execution_count": 24,
   "id": "c3f0e520",
   "metadata": {},
   "outputs": [
    {
     "data": {
      "text/html": [
       "<div>\n",
       "<style scoped>\n",
       "    .dataframe tbody tr th:only-of-type {\n",
       "        vertical-align: middle;\n",
       "    }\n",
       "\n",
       "    .dataframe tbody tr th {\n",
       "        vertical-align: top;\n",
       "    }\n",
       "\n",
       "    .dataframe thead th {\n",
       "        text-align: right;\n",
       "    }\n",
       "</style>\n",
       "<table border=\"1\" class=\"dataframe\">\n",
       "  <thead>\n",
       "    <tr style=\"text-align: right;\">\n",
       "      <th></th>\n",
       "      <th>bedrooms</th>\n",
       "      <th>bathrooms</th>\n",
       "      <th>sqft_living</th>\n",
       "      <th>sqft_lot</th>\n",
       "      <th>floors</th>\n",
       "      <th>grade</th>\n",
       "      <th>sqft_above</th>\n",
       "      <th>sqft_basement</th>\n",
       "      <th>yr_renovated</th>\n",
       "      <th>zipcode</th>\n",
       "      <th>lat</th>\n",
       "      <th>long</th>\n",
       "    </tr>\n",
       "  </thead>\n",
       "  <tbody>\n",
       "    <tr>\n",
       "      <th>0</th>\n",
       "      <td>3</td>\n",
       "      <td>1.00</td>\n",
       "      <td>1180</td>\n",
       "      <td>5650</td>\n",
       "      <td>1.0</td>\n",
       "      <td>7</td>\n",
       "      <td>1180</td>\n",
       "      <td>0</td>\n",
       "      <td>0</td>\n",
       "      <td>98178</td>\n",
       "      <td>47.5112</td>\n",
       "      <td>-122.257</td>\n",
       "    </tr>\n",
       "    <tr>\n",
       "      <th>1</th>\n",
       "      <td>3</td>\n",
       "      <td>2.25</td>\n",
       "      <td>2570</td>\n",
       "      <td>7242</td>\n",
       "      <td>2.0</td>\n",
       "      <td>7</td>\n",
       "      <td>2170</td>\n",
       "      <td>400</td>\n",
       "      <td>1991</td>\n",
       "      <td>98125</td>\n",
       "      <td>47.7210</td>\n",
       "      <td>-122.319</td>\n",
       "    </tr>\n",
       "    <tr>\n",
       "      <th>2</th>\n",
       "      <td>2</td>\n",
       "      <td>1.00</td>\n",
       "      <td>770</td>\n",
       "      <td>10000</td>\n",
       "      <td>1.0</td>\n",
       "      <td>6</td>\n",
       "      <td>770</td>\n",
       "      <td>0</td>\n",
       "      <td>0</td>\n",
       "      <td>98028</td>\n",
       "      <td>47.7379</td>\n",
       "      <td>-122.233</td>\n",
       "    </tr>\n",
       "    <tr>\n",
       "      <th>3</th>\n",
       "      <td>4</td>\n",
       "      <td>3.00</td>\n",
       "      <td>1960</td>\n",
       "      <td>5000</td>\n",
       "      <td>1.0</td>\n",
       "      <td>7</td>\n",
       "      <td>1050</td>\n",
       "      <td>910</td>\n",
       "      <td>0</td>\n",
       "      <td>98136</td>\n",
       "      <td>47.5208</td>\n",
       "      <td>-122.393</td>\n",
       "    </tr>\n",
       "    <tr>\n",
       "      <th>4</th>\n",
       "      <td>3</td>\n",
       "      <td>2.00</td>\n",
       "      <td>1680</td>\n",
       "      <td>8080</td>\n",
       "      <td>1.0</td>\n",
       "      <td>8</td>\n",
       "      <td>1680</td>\n",
       "      <td>0</td>\n",
       "      <td>0</td>\n",
       "      <td>98074</td>\n",
       "      <td>47.6168</td>\n",
       "      <td>-122.045</td>\n",
       "    </tr>\n",
       "  </tbody>\n",
       "</table>\n",
       "</div>"
      ],
      "text/plain": [
       "   bedrooms  bathrooms  sqft_living  sqft_lot  floors  grade  sqft_above   \n",
       "0         3       1.00         1180      5650     1.0      7        1180  \\\n",
       "1         3       2.25         2570      7242     2.0      7        2170   \n",
       "2         2       1.00          770     10000     1.0      6         770   \n",
       "3         4       3.00         1960      5000     1.0      7        1050   \n",
       "4         3       2.00         1680      8080     1.0      8        1680   \n",
       "\n",
       "   sqft_basement  yr_renovated  zipcode      lat     long  \n",
       "0              0             0    98178  47.5112 -122.257  \n",
       "1            400          1991    98125  47.7210 -122.319  \n",
       "2              0             0    98028  47.7379 -122.233  \n",
       "3            910             0    98136  47.5208 -122.393  \n",
       "4              0             0    98074  47.6168 -122.045  "
      ]
     },
     "execution_count": 24,
     "metadata": {},
     "output_type": "execute_result"
    }
   ],
   "source": [
    "X.head()"
   ]
  }
 ],
 "metadata": {
  "kernelspec": {
   "display_name": "Python 3 (ipykernel)",
   "language": "python",
   "name": "python3"
  },
  "language_info": {
   "codemirror_mode": {
    "name": "ipython",
    "version": 3
   },
   "file_extension": ".py",
   "mimetype": "text/x-python",
   "name": "python",
   "nbconvert_exporter": "python",
   "pygments_lexer": "ipython3",
   "version": "3.10.8"
  }
 },
 "nbformat": 4,
 "nbformat_minor": 5
}
